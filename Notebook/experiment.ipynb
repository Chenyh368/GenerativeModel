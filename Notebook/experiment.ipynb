{
 "cells": [
  {
   "cell_type": "code",
   "execution_count": 1,
   "metadata": {
    "collapsed": true
   },
   "outputs": [],
   "source": [
    "# Setting notebook to current work dir\n",
    "import os\n",
    "os.chdir(\"/root/Code/GenerativeModel/\")"
   ]
  },
  {
   "cell_type": "code",
   "execution_count": 2,
   "outputs": [],
   "source": [
    "from utils.experiman import manager\n",
    "from options.test_options import TestOptions\n",
    "from data import create_dataset\n",
    "from models import create_model"
   ],
   "metadata": {
    "collapsed": false,
    "pycharm": {
     "name": "#%%\n"
    }
   }
  },
  {
   "cell_type": "code",
   "execution_count": 3,
   "outputs": [
    {
     "name": "stdout",
     "output_type": "stream",
     "text": [
      "0\n",
      "======> UID of this run: 221214-231353-MBlOle\n",
      "run_number : 0\n",
      "Directory /root/Log/GenerativeModel/CycleGANTest/0 exists, please choose an option:\n",
      "Old files deleted.\n",
      "======> Directory for this run: /root/Log/GenerativeModel/CycleGANTest/0\n",
      "2022-12-14 23:13:54,705 INFO Opts: Namespace(batch_size=1, code_dir='/root/Code/CycleGAN_rewrite', crop_size=256, data_dir='/root/Dataset/', dataroot='/root/Dataset/maps', dataset_dir='maps', dataset_mode='unaligned', direction='AtoB', epoch='latest', eval=False, exp_name='GenerativeModel', gpu='0', gpu_ids=[0], init_gain=0.02, init_type='normal', input_nc=3, isTrain=False, load_iter=0, load_size=256, log_dir='/root/Log', max_dataset_size=inf, model='cycle_gan', n_layers_D=3, ndf=64, netD='basic', netG='resnet_9blocks', ngf=64, no_dropout=True, no_flip=False, norm='instance', num_threads=4, option_for_existing_dir=None, output_nc=3, phase='test', preprocess='resize_and_crop', run_name='CycleGANTest', run_number='0', seed=0, serial_batches=False, uid='221214-231353-MBlOle', verbose=False)\n",
      "2022-12-14 23:13:54,729 INFO ======> dataset [UnalignedDataset] was created\n"
     ]
    }
   ],
   "source": [
    "parser = manager.get_basic_arg_parser()\n",
    "parser.set_defaults(run_name=\"CycleGANTest\")\n",
    "opt = TestOptions(parser).parse()\n",
    "manager.setup(opt, third_party_tools=('tensorboard',))\n",
    "# hard-code some parameters for test\n",
    "opt.num_threads = 0   # test code only supports num_threads = 0\n",
    "opt.batch_size = 1    # test code only supports batch_size = 1\n",
    "opt.serial_batches = True  # disable data shuffling; comment this line if results on randomly chosen images are needed.\n",
    "opt.no_flip = True    # no flip; comment this line if results on flipped images are needed.\n",
    "dataset = create_dataset(opt, manager)  # create a dataset given opt.dataset_mode and other options"
   ],
   "metadata": {
    "collapsed": false,
    "pycharm": {
     "name": "#%%\n"
    }
   }
  },
  {
   "cell_type": "code",
   "execution_count": 4,
   "outputs": [
    {
     "name": "stdout",
     "output_type": "stream",
     "text": [
      "initialize network with normal\n",
      "initialize network with normal\n",
      "model [CycleGANModel] was created\n",
      "loading the model from /root/Log/GenerativeModel/CycleGAN/0/checkpoints/latest_net_G_A.pth\n",
      "loading the model from /root/Log/GenerativeModel/CycleGAN/0/checkpoints/latest_net_G_B.pth\n",
      "======> Networks initialized ======\n",
      "2022-12-14 23:13:57,610 INFO [Network G_A] Total number of parameters : 11.378 M\n",
      "2022-12-14 23:13:57,612 INFO [Network G_B] Total number of parameters : 11.378 M\n",
      "========================\n"
     ]
    }
   ],
   "source": [
    "model = create_model(opt, manager)      # create a model given opt.model and other options\n",
    "model.setup(opt)               # regular setup: load and print networks; create schedulers"
   ],
   "metadata": {
    "collapsed": false,
    "pycharm": {
     "name": "#%%\n"
    }
   }
  },
  {
   "cell_type": "code",
   "execution_count": 6,
   "outputs": [
    {
     "data": {
      "text/plain": "DataParallel(\n  (module): ResnetGenerator(\n    (model): Sequential(\n      (0): ReflectionPad2d((3, 3, 3, 3))\n      (1): Conv2d(3, 64, kernel_size=(7, 7), stride=(1, 1))\n      (2): InstanceNorm2d(64, eps=1e-05, momentum=0.1, affine=False, track_running_stats=False)\n      (3): ReLU(inplace=True)\n      (4): Conv2d(64, 128, kernel_size=(3, 3), stride=(2, 2), padding=(1, 1))\n      (5): InstanceNorm2d(128, eps=1e-05, momentum=0.1, affine=False, track_running_stats=False)\n      (6): ReLU(inplace=True)\n      (7): Conv2d(128, 256, kernel_size=(3, 3), stride=(2, 2), padding=(1, 1))\n      (8): InstanceNorm2d(256, eps=1e-05, momentum=0.1, affine=False, track_running_stats=False)\n      (9): ReLU(inplace=True)\n      (10): ResnetBlock(\n        (conv_block): Sequential(\n          (0): ReflectionPad2d((1, 1, 1, 1))\n          (1): Conv2d(256, 256, kernel_size=(3, 3), stride=(1, 1))\n          (2): InstanceNorm2d(256, eps=1e-05, momentum=0.1, affine=False, track_running_stats=False)\n          (3): ReLU(inplace=True)\n          (4): ReflectionPad2d((1, 1, 1, 1))\n          (5): Conv2d(256, 256, kernel_size=(3, 3), stride=(1, 1))\n          (6): InstanceNorm2d(256, eps=1e-05, momentum=0.1, affine=False, track_running_stats=False)\n        )\n      )\n      (11): ResnetBlock(\n        (conv_block): Sequential(\n          (0): ReflectionPad2d((1, 1, 1, 1))\n          (1): Conv2d(256, 256, kernel_size=(3, 3), stride=(1, 1))\n          (2): InstanceNorm2d(256, eps=1e-05, momentum=0.1, affine=False, track_running_stats=False)\n          (3): ReLU(inplace=True)\n          (4): ReflectionPad2d((1, 1, 1, 1))\n          (5): Conv2d(256, 256, kernel_size=(3, 3), stride=(1, 1))\n          (6): InstanceNorm2d(256, eps=1e-05, momentum=0.1, affine=False, track_running_stats=False)\n        )\n      )\n      (12): ResnetBlock(\n        (conv_block): Sequential(\n          (0): ReflectionPad2d((1, 1, 1, 1))\n          (1): Conv2d(256, 256, kernel_size=(3, 3), stride=(1, 1))\n          (2): InstanceNorm2d(256, eps=1e-05, momentum=0.1, affine=False, track_running_stats=False)\n          (3): ReLU(inplace=True)\n          (4): ReflectionPad2d((1, 1, 1, 1))\n          (5): Conv2d(256, 256, kernel_size=(3, 3), stride=(1, 1))\n          (6): InstanceNorm2d(256, eps=1e-05, momentum=0.1, affine=False, track_running_stats=False)\n        )\n      )\n      (13): ResnetBlock(\n        (conv_block): Sequential(\n          (0): ReflectionPad2d((1, 1, 1, 1))\n          (1): Conv2d(256, 256, kernel_size=(3, 3), stride=(1, 1))\n          (2): InstanceNorm2d(256, eps=1e-05, momentum=0.1, affine=False, track_running_stats=False)\n          (3): ReLU(inplace=True)\n          (4): ReflectionPad2d((1, 1, 1, 1))\n          (5): Conv2d(256, 256, kernel_size=(3, 3), stride=(1, 1))\n          (6): InstanceNorm2d(256, eps=1e-05, momentum=0.1, affine=False, track_running_stats=False)\n        )\n      )\n      (14): ResnetBlock(\n        (conv_block): Sequential(\n          (0): ReflectionPad2d((1, 1, 1, 1))\n          (1): Conv2d(256, 256, kernel_size=(3, 3), stride=(1, 1))\n          (2): InstanceNorm2d(256, eps=1e-05, momentum=0.1, affine=False, track_running_stats=False)\n          (3): ReLU(inplace=True)\n          (4): ReflectionPad2d((1, 1, 1, 1))\n          (5): Conv2d(256, 256, kernel_size=(3, 3), stride=(1, 1))\n          (6): InstanceNorm2d(256, eps=1e-05, momentum=0.1, affine=False, track_running_stats=False)\n        )\n      )\n      (15): ResnetBlock(\n        (conv_block): Sequential(\n          (0): ReflectionPad2d((1, 1, 1, 1))\n          (1): Conv2d(256, 256, kernel_size=(3, 3), stride=(1, 1))\n          (2): InstanceNorm2d(256, eps=1e-05, momentum=0.1, affine=False, track_running_stats=False)\n          (3): ReLU(inplace=True)\n          (4): ReflectionPad2d((1, 1, 1, 1))\n          (5): Conv2d(256, 256, kernel_size=(3, 3), stride=(1, 1))\n          (6): InstanceNorm2d(256, eps=1e-05, momentum=0.1, affine=False, track_running_stats=False)\n        )\n      )\n      (16): ResnetBlock(\n        (conv_block): Sequential(\n          (0): ReflectionPad2d((1, 1, 1, 1))\n          (1): Conv2d(256, 256, kernel_size=(3, 3), stride=(1, 1))\n          (2): InstanceNorm2d(256, eps=1e-05, momentum=0.1, affine=False, track_running_stats=False)\n          (3): ReLU(inplace=True)\n          (4): ReflectionPad2d((1, 1, 1, 1))\n          (5): Conv2d(256, 256, kernel_size=(3, 3), stride=(1, 1))\n          (6): InstanceNorm2d(256, eps=1e-05, momentum=0.1, affine=False, track_running_stats=False)\n        )\n      )\n      (17): ResnetBlock(\n        (conv_block): Sequential(\n          (0): ReflectionPad2d((1, 1, 1, 1))\n          (1): Conv2d(256, 256, kernel_size=(3, 3), stride=(1, 1))\n          (2): InstanceNorm2d(256, eps=1e-05, momentum=0.1, affine=False, track_running_stats=False)\n          (3): ReLU(inplace=True)\n          (4): ReflectionPad2d((1, 1, 1, 1))\n          (5): Conv2d(256, 256, kernel_size=(3, 3), stride=(1, 1))\n          (6): InstanceNorm2d(256, eps=1e-05, momentum=0.1, affine=False, track_running_stats=False)\n        )\n      )\n      (18): ResnetBlock(\n        (conv_block): Sequential(\n          (0): ReflectionPad2d((1, 1, 1, 1))\n          (1): Conv2d(256, 256, kernel_size=(3, 3), stride=(1, 1))\n          (2): InstanceNorm2d(256, eps=1e-05, momentum=0.1, affine=False, track_running_stats=False)\n          (3): ReLU(inplace=True)\n          (4): ReflectionPad2d((1, 1, 1, 1))\n          (5): Conv2d(256, 256, kernel_size=(3, 3), stride=(1, 1))\n          (6): InstanceNorm2d(256, eps=1e-05, momentum=0.1, affine=False, track_running_stats=False)\n        )\n      )\n      (19): ConvTranspose2d(256, 128, kernel_size=(3, 3), stride=(2, 2), padding=(1, 1), output_padding=(1, 1))\n      (20): InstanceNorm2d(128, eps=1e-05, momentum=0.1, affine=False, track_running_stats=False)\n      (21): ReLU(inplace=True)\n      (22): ConvTranspose2d(128, 64, kernel_size=(3, 3), stride=(2, 2), padding=(1, 1), output_padding=(1, 1))\n      (23): InstanceNorm2d(64, eps=1e-05, momentum=0.1, affine=False, track_running_stats=False)\n      (24): ReLU(inplace=True)\n      (25): ReflectionPad2d((3, 3, 3, 3))\n      (26): Conv2d(64, 3, kernel_size=(7, 7), stride=(1, 1))\n      (27): Tanh()\n    )\n  )\n)"
     },
     "execution_count": 6,
     "metadata": {},
     "output_type": "execute_result"
    }
   ],
   "source": [
    "model.netG_A"
   ],
   "metadata": {
    "collapsed": false,
    "pycharm": {
     "name": "#%%\n"
    }
   }
  },
  {
   "cell_type": "code",
   "execution_count": 9,
   "outputs": [],
   "source": [
    "example_data = dataset.dataset[1]"
   ],
   "metadata": {
    "collapsed": false,
    "pycharm": {
     "name": "#%%\n"
    }
   }
  },
  {
   "cell_type": "code",
   "execution_count": 13,
   "outputs": [
    {
     "data": {
      "text/plain": "torch.Size([3, 256, 256])"
     },
     "execution_count": 13,
     "metadata": {},
     "output_type": "execute_result"
    }
   ],
   "source": [
    "model.netG_A(example_data['A']).shape"
   ],
   "metadata": {
    "collapsed": false,
    "pycharm": {
     "name": "#%%\n"
    }
   }
  },
  {
   "cell_type": "code",
   "execution_count": null,
   "outputs": [],
   "source": [],
   "metadata": {
    "collapsed": false,
    "pycharm": {
     "name": "#%%\n"
    }
   }
  }
 ],
 "metadata": {
  "kernelspec": {
   "display_name": "Python 3",
   "language": "python",
   "name": "python3"
  },
  "language_info": {
   "codemirror_mode": {
    "name": "ipython",
    "version": 2
   },
   "file_extension": ".py",
   "mimetype": "text/x-python",
   "name": "python",
   "nbconvert_exporter": "python",
   "pygments_lexer": "ipython2",
   "version": "2.7.6"
  }
 },
 "nbformat": 4,
 "nbformat_minor": 0
}